{
  "nbformat": 4,
  "nbformat_minor": 0,
  "metadata": {
    "colab": {
      "provenance": [],
      "authorship_tag": "ABX9TyNq2FhTxbJ/9Hf6yTMZFcMV",
      "include_colab_link": true
    },
    "kernelspec": {
      "name": "python3",
      "display_name": "Python 3"
    },
    "language_info": {
      "name": "python"
    }
  },
  "cells": [
    {
      "cell_type": "markdown",
      "metadata": {
        "id": "view-in-github",
        "colab_type": "text"
      },
      "source": [
        "<a href=\"https://colab.research.google.com/github/Dexheimer/CamuCamuEsmaltes/blob/main/Precos_Ceasa.ipynb\" target=\"_parent\"><img src=\"https://colab.research.google.com/assets/colab-badge.svg\" alt=\"Open In Colab\"/></a>"
      ]
    },
    {
      "cell_type": "markdown",
      "source": [
        "# 1. Configurações Iniciais\n",
        "Criar um arquivo ou célula para as bibliotecas, configurações e funções auxiliares."
      ],
      "metadata": {
        "id": "qanIwuepFm4V"
      }
    },
    {
      "cell_type": "code",
      "execution_count": 5,
      "metadata": {
        "colab": {
          "base_uri": "https://localhost:8080/"
        },
        "id": "j8cYEC-2Gpym",
        "outputId": "67cd3724-293c-455c-9509-6665e17e2ae5"
      },
      "outputs": [
        {
          "output_type": "stream",
          "name": "stdout",
          "text": [
            "Requirement already satisfied: pdfplumber in /usr/local/lib/python3.10/dist-packages (0.11.4)\n",
            "Requirement already satisfied: requests in /usr/local/lib/python3.10/dist-packages (2.32.3)\n",
            "Requirement already satisfied: beautifulsoup4 in /usr/local/lib/python3.10/dist-packages (4.12.3)\n",
            "Requirement already satisfied: pandas in /usr/local/lib/python3.10/dist-packages (2.2.2)\n",
            "Requirement already satisfied: pdfminer.six==20231228 in /usr/local/lib/python3.10/dist-packages (from pdfplumber) (20231228)\n",
            "Requirement already satisfied: Pillow>=9.1 in /usr/local/lib/python3.10/dist-packages (from pdfplumber) (11.0.0)\n",
            "Requirement already satisfied: pypdfium2>=4.18.0 in /usr/local/lib/python3.10/dist-packages (from pdfplumber) (4.30.0)\n",
            "Requirement already satisfied: charset-normalizer>=2.0.0 in /usr/local/lib/python3.10/dist-packages (from pdfminer.six==20231228->pdfplumber) (3.4.0)\n",
            "Requirement already satisfied: cryptography>=36.0.0 in /usr/local/lib/python3.10/dist-packages (from pdfminer.six==20231228->pdfplumber) (43.0.3)\n",
            "Requirement already satisfied: idna<4,>=2.5 in /usr/local/lib/python3.10/dist-packages (from requests) (3.10)\n",
            "Requirement already satisfied: urllib3<3,>=1.21.1 in /usr/local/lib/python3.10/dist-packages (from requests) (2.2.3)\n",
            "Requirement already satisfied: certifi>=2017.4.17 in /usr/local/lib/python3.10/dist-packages (from requests) (2024.8.30)\n",
            "Requirement already satisfied: soupsieve>1.2 in /usr/local/lib/python3.10/dist-packages (from beautifulsoup4) (2.6)\n",
            "Requirement already satisfied: numpy>=1.22.4 in /usr/local/lib/python3.10/dist-packages (from pandas) (1.26.4)\n",
            "Requirement already satisfied: python-dateutil>=2.8.2 in /usr/local/lib/python3.10/dist-packages (from pandas) (2.8.2)\n",
            "Requirement already satisfied: pytz>=2020.1 in /usr/local/lib/python3.10/dist-packages (from pandas) (2024.2)\n",
            "Requirement already satisfied: tzdata>=2022.7 in /usr/local/lib/python3.10/dist-packages (from pandas) (2024.2)\n",
            "Requirement already satisfied: six>=1.5 in /usr/local/lib/python3.10/dist-packages (from python-dateutil>=2.8.2->pandas) (1.16.0)\n",
            "Requirement already satisfied: cffi>=1.12 in /usr/local/lib/python3.10/dist-packages (from cryptography>=36.0.0->pdfminer.six==20231228->pdfplumber) (1.17.1)\n",
            "Requirement already satisfied: pycparser in /usr/local/lib/python3.10/dist-packages (from cffi>=1.12->cryptography>=36.0.0->pdfminer.six==20231228->pdfplumber) (2.22)\n"
          ]
        }
      ],
      "source": [
        "# Instalar as bibliotecas necessárias\n",
        "!pip install pdfplumber requests beautifulsoup4 pandas\n",
        "\n",
        "# Importar as bibliotecas\n",
        "import requests\n",
        "import pandas as pd\n",
        "import pdfplumber\n",
        "import os\n",
        "from bs4 import BeautifulSoup\n",
        "from datetime import datetime\n",
        "\n",
        "# configurações iniciais\n",
        "\n",
        "base_url = \"https://www.rj.gov.br/ceasa/node/388\"\n",
        "output_dir = \"ceasa_pdfs\"\n",
        "csv_output = \"cotacoes_ceasa.csv\"\n",
        "\n"
      ]
    },
    {
      "cell_type": "markdown",
      "source": [
        "# 2. Coletar Links dos Meses\n",
        "E testar os links para os meses"
      ],
      "metadata": {
        "id": "dll1vDEAF0w7"
      }
    },
    {
      "cell_type": "code",
      "source": [
        "def get_month_links(base_url):\n",
        "    \"\"\"Acessa a página principal e retorna uma lista de dicionários com links e textos dos meses.\"\"\"\n",
        "    response = requests.get(base_url)\n",
        "    response.raise_for_status()\n",
        "    soup = BeautifulSoup(response.content, 'html.parser')\n",
        "\n",
        "    # Focar na div específica onde os links estão localizados\n",
        "    section = soup.find(\"div\", {\"property\": \"schema:text\"})\n",
        "\n",
        "    # Verificar se a seção foi encontrada\n",
        "    if section:\n",
        "        links = section.find_all(\"a\", href=True)\n",
        "        month_links = [\n",
        "            {\"url\": link['href'], \"text\": link.text.strip()}\n",
        "            for link in links\n",
        "        ]\n",
        "        return month_links\n",
        "    else:\n",
        "        print(\"Seção com links não encontrada.\")\n",
        "        return []\n",
        "\n",
        "# Testar\n",
        "base_url = \"https://www.rj.gov.br/ceasa/node/388\"\n",
        "month_links = get_month_links(base_url)\n",
        "print(f\"Links e textos dos meses encontrados: {month_links}\")\n"
      ],
      "metadata": {
        "colab": {
          "base_uri": "https://localhost:8080/"
        },
        "id": "keLXw32dMAgS",
        "outputId": "0ac014d8-6038-4328-8571-8e953e5e3eea"
      },
      "execution_count": 13,
      "outputs": [
        {
          "output_type": "stream",
          "name": "stdout",
          "text": [
            "Links e textos dos meses encontrados: [{'url': 'https://www.rj.gov.br/ceasa/node/491', 'text': 'Novembro'}, {'url': 'https://www.rj.gov.br/ceasa/node/452', 'text': 'Outubro'}, {'url': 'https://www.rj.gov.br/ceasa/node/446', 'text': 'Setembro'}, {'url': 'https://www.rj.gov.br/ceasa/node/436', 'text': 'Agosto'}, {'url': 'https://www.rj.gov.br/ceasa/node/425', 'text': 'Julho'}, {'url': 'https://www.rj.gov.br/ceasa/node/403', 'text': 'Junho'}, {'url': '/ceasa/node/396', 'text': 'Maio'}, {'url': '/ceasa/node/395', 'text': 'Abril'}, {'url': '/ceasa/node/392', 'text': 'Março'}, {'url': '/ceasa/node/391', 'text': 'Fevereiro'}, {'url': '/ceasa/node/387', 'text': 'Janeiro'}]\n"
          ]
        }
      ]
    },
    {
      "cell_type": "markdown",
      "source": [
        "# 3. Função para Extrair Links de PDFs"
      ],
      "metadata": {
        "id": "JJKHnM9HLT0M"
      }
    },
    {
      "cell_type": "code",
      "source": [
        "def get_daily_pdf_links(month_link):\n",
        "    \"\"\"Acessa uma página do mês e retorna os links para os PDFs diários.\"\"\"\n",
        "    response = requests.get(month_link)\n",
        "    response.raise_for_status()\n",
        "    soup = BeautifulSoup(response.content, 'html.parser')\n",
        "\n",
        "    # Encontrar todos os links para arquivos PDF\n",
        "    pdf_links = [\n",
        "        link['href']\n",
        "        for link in soup.find_all(\"a\", href=True)\n",
        "        if link['href'].endswith(\".pdf\")\n",
        "    ]\n",
        "    return pdf_links\n",
        "\n",
        "\"\"\"    # Testar com o primeiro mês\n",
        "first_month_url = month_links[0][\"url\"]\n",
        "daily_pdfs = get_daily_pdf_links(first_month_url)\n",
        "print(f\"PDFs diários encontrados para {month_links[0]['text']}: {daily_pdfs}\") \"\"\"\n"
      ],
      "metadata": {
        "colab": {
          "base_uri": "https://localhost:8080/",
          "height": 70
        },
        "id": "wqLbxedILQ-Y",
        "outputId": "3af97d70-15a1-4c11-f9c5-1272d1c799fd"
      },
      "execution_count": 17,
      "outputs": [
        {
          "output_type": "execute_result",
          "data": {
            "text/plain": [
              "'    # Testar com o primeiro mês\\nfirst_month_url = month_links[0][\"url\"]\\ndaily_pdfs = get_daily_pdf_links(first_month_url)\\nprint(f\"PDFs diários encontrados para {month_links[0][\\'text\\']}: {daily_pdfs}\") '"
            ],
            "application/vnd.google.colaboratory.intrinsic+json": {
              "type": "string"
            }
          },
          "metadata": {},
          "execution_count": 17
        }
      ]
    },
    {
      "cell_type": "markdown",
      "source": [
        "# 4. Iterar pelos Links de Todos os Meses."
      ],
      "metadata": {
        "id": "E1NggHM2MBFB"
      }
    },
    {
      "cell_type": "code",
      "source": [
        "def get_all_pdf_links(month_links):\n",
        "    \"\"\"\n",
        "    Itera sobre todos os links dos meses e coleta os PDFs diários.\n",
        "    Retorna um dicionário com o nome do mês e os links dos PDFs.\n",
        "    \"\"\"\n",
        "    all_pdfs = {}\n",
        "    for month in month_links:\n",
        "        print(f\"Processando: {month['text']} ({month['url']})\")\n",
        "        pdf_links = get_daily_pdf_links(month['url'])\n",
        "        all_pdfs[month['text']] = pdf_links\n",
        "        print(f\"PDFs encontrados para {month['text']}: {len(pdf_links)}\")\n",
        "    return all_pdfs\n"
      ],
      "metadata": {
        "id": "ASbW4LtaMJU0"
      },
      "execution_count": 18,
      "outputs": []
    },
    {
      "cell_type": "code",
      "source": [
        "# Coletar os links de PDFs para todos os meses\n",
        "all_pdfs = get_all_pdf_links(month_links)\n",
        "\n",
        "# Exibir resultado resumido\n",
        "for month, pdfs in all_pdfs.items():\n",
        "    print(f\"{month}: {len(pdfs)} PDFs encontrados\")"
      ],
      "metadata": {
        "colab": {
          "base_uri": "https://localhost:8080/",
          "height": 599
        },
        "id": "5UtY3a2OMc4Z",
        "outputId": "0bea949c-8b99-4218-931b-b8360ea2e6af"
      },
      "execution_count": 19,
      "outputs": [
        {
          "output_type": "stream",
          "name": "stdout",
          "text": [
            "Processando: Novembro (https://www.rj.gov.br/ceasa/node/491)\n",
            "PDFs encontrados para Novembro: 16\n",
            "Processando: Outubro (https://www.rj.gov.br/ceasa/node/452)\n",
            "PDFs encontrados para Outubro: 22\n",
            "Processando: Setembro (https://www.rj.gov.br/ceasa/node/446)\n",
            "PDFs encontrados para Setembro: 21\n",
            "Processando: Agosto (https://www.rj.gov.br/ceasa/node/436)\n",
            "PDFs encontrados para Agosto: 22\n",
            "Processando: Julho (https://www.rj.gov.br/ceasa/node/425)\n",
            "PDFs encontrados para Julho: 22\n",
            "Processando: Junho (https://www.rj.gov.br/ceasa/node/403)\n",
            "PDFs encontrados para Junho: 20\n",
            "Processando: Maio (/ceasa/node/396)\n"
          ]
        },
        {
          "output_type": "error",
          "ename": "MissingSchema",
          "evalue": "Invalid URL '/ceasa/node/396': No scheme supplied. Perhaps you meant https:///ceasa/node/396?",
          "traceback": [
            "\u001b[0;31m---------------------------------------------------------------------------\u001b[0m",
            "\u001b[0;31mMissingSchema\u001b[0m                             Traceback (most recent call last)",
            "\u001b[0;32m<ipython-input-19-5a2f7205c1a0>\u001b[0m in \u001b[0;36m<cell line: 2>\u001b[0;34m()\u001b[0m\n\u001b[1;32m      1\u001b[0m \u001b[0;31m# Coletar os links de PDFs para todos os meses\u001b[0m\u001b[0;34m\u001b[0m\u001b[0;34m\u001b[0m\u001b[0m\n\u001b[0;32m----> 2\u001b[0;31m \u001b[0mall_pdfs\u001b[0m \u001b[0;34m=\u001b[0m \u001b[0mget_all_pdf_links\u001b[0m\u001b[0;34m(\u001b[0m\u001b[0mmonth_links\u001b[0m\u001b[0;34m)\u001b[0m\u001b[0;34m\u001b[0m\u001b[0;34m\u001b[0m\u001b[0m\n\u001b[0m\u001b[1;32m      3\u001b[0m \u001b[0;34m\u001b[0m\u001b[0m\n\u001b[1;32m      4\u001b[0m \u001b[0;31m# Exibir resultado resumido\u001b[0m\u001b[0;34m\u001b[0m\u001b[0;34m\u001b[0m\u001b[0m\n\u001b[1;32m      5\u001b[0m \u001b[0;32mfor\u001b[0m \u001b[0mmonth\u001b[0m\u001b[0;34m,\u001b[0m \u001b[0mpdfs\u001b[0m \u001b[0;32min\u001b[0m \u001b[0mall_pdfs\u001b[0m\u001b[0;34m.\u001b[0m\u001b[0mitems\u001b[0m\u001b[0;34m(\u001b[0m\u001b[0;34m)\u001b[0m\u001b[0;34m:\u001b[0m\u001b[0;34m\u001b[0m\u001b[0;34m\u001b[0m\u001b[0m\n",
            "\u001b[0;32m<ipython-input-18-4fa2de9e9c50>\u001b[0m in \u001b[0;36mget_all_pdf_links\u001b[0;34m(month_links)\u001b[0m\n\u001b[1;32m      7\u001b[0m     \u001b[0;32mfor\u001b[0m \u001b[0mmonth\u001b[0m \u001b[0;32min\u001b[0m \u001b[0mmonth_links\u001b[0m\u001b[0;34m:\u001b[0m\u001b[0;34m\u001b[0m\u001b[0;34m\u001b[0m\u001b[0m\n\u001b[1;32m      8\u001b[0m         \u001b[0mprint\u001b[0m\u001b[0;34m(\u001b[0m\u001b[0;34mf\"Processando: {month['text']} ({month['url']})\"\u001b[0m\u001b[0;34m)\u001b[0m\u001b[0;34m\u001b[0m\u001b[0;34m\u001b[0m\u001b[0m\n\u001b[0;32m----> 9\u001b[0;31m         \u001b[0mpdf_links\u001b[0m \u001b[0;34m=\u001b[0m \u001b[0mget_daily_pdf_links\u001b[0m\u001b[0;34m(\u001b[0m\u001b[0mmonth\u001b[0m\u001b[0;34m[\u001b[0m\u001b[0;34m'url'\u001b[0m\u001b[0;34m]\u001b[0m\u001b[0;34m)\u001b[0m\u001b[0;34m\u001b[0m\u001b[0;34m\u001b[0m\u001b[0m\n\u001b[0m\u001b[1;32m     10\u001b[0m         \u001b[0mall_pdfs\u001b[0m\u001b[0;34m[\u001b[0m\u001b[0mmonth\u001b[0m\u001b[0;34m[\u001b[0m\u001b[0;34m'text'\u001b[0m\u001b[0;34m]\u001b[0m\u001b[0;34m]\u001b[0m \u001b[0;34m=\u001b[0m \u001b[0mpdf_links\u001b[0m\u001b[0;34m\u001b[0m\u001b[0;34m\u001b[0m\u001b[0m\n\u001b[1;32m     11\u001b[0m         \u001b[0mprint\u001b[0m\u001b[0;34m(\u001b[0m\u001b[0;34mf\"PDFs encontrados para {month['text']}: {len(pdf_links)}\"\u001b[0m\u001b[0;34m)\u001b[0m\u001b[0;34m\u001b[0m\u001b[0;34m\u001b[0m\u001b[0m\n",
            "\u001b[0;32m<ipython-input-17-17fef510ac8f>\u001b[0m in \u001b[0;36mget_daily_pdf_links\u001b[0;34m(month_link)\u001b[0m\n\u001b[1;32m      1\u001b[0m \u001b[0;32mdef\u001b[0m \u001b[0mget_daily_pdf_links\u001b[0m\u001b[0;34m(\u001b[0m\u001b[0mmonth_link\u001b[0m\u001b[0;34m)\u001b[0m\u001b[0;34m:\u001b[0m\u001b[0;34m\u001b[0m\u001b[0;34m\u001b[0m\u001b[0m\n\u001b[1;32m      2\u001b[0m     \u001b[0;34m\"\"\"Acessa uma página do mês e retorna os links para os PDFs diários.\"\"\"\u001b[0m\u001b[0;34m\u001b[0m\u001b[0;34m\u001b[0m\u001b[0m\n\u001b[0;32m----> 3\u001b[0;31m     \u001b[0mresponse\u001b[0m \u001b[0;34m=\u001b[0m \u001b[0mrequests\u001b[0m\u001b[0;34m.\u001b[0m\u001b[0mget\u001b[0m\u001b[0;34m(\u001b[0m\u001b[0mmonth_link\u001b[0m\u001b[0;34m)\u001b[0m\u001b[0;34m\u001b[0m\u001b[0;34m\u001b[0m\u001b[0m\n\u001b[0m\u001b[1;32m      4\u001b[0m     \u001b[0mresponse\u001b[0m\u001b[0;34m.\u001b[0m\u001b[0mraise_for_status\u001b[0m\u001b[0;34m(\u001b[0m\u001b[0;34m)\u001b[0m\u001b[0;34m\u001b[0m\u001b[0;34m\u001b[0m\u001b[0m\n\u001b[1;32m      5\u001b[0m     \u001b[0msoup\u001b[0m \u001b[0;34m=\u001b[0m \u001b[0mBeautifulSoup\u001b[0m\u001b[0;34m(\u001b[0m\u001b[0mresponse\u001b[0m\u001b[0;34m.\u001b[0m\u001b[0mcontent\u001b[0m\u001b[0;34m,\u001b[0m \u001b[0;34m'html.parser'\u001b[0m\u001b[0;34m)\u001b[0m\u001b[0;34m\u001b[0m\u001b[0;34m\u001b[0m\u001b[0m\n",
            "\u001b[0;32m/usr/local/lib/python3.10/dist-packages/requests/api.py\u001b[0m in \u001b[0;36mget\u001b[0;34m(url, params, **kwargs)\u001b[0m\n\u001b[1;32m     71\u001b[0m     \"\"\"\n\u001b[1;32m     72\u001b[0m \u001b[0;34m\u001b[0m\u001b[0m\n\u001b[0;32m---> 73\u001b[0;31m     \u001b[0;32mreturn\u001b[0m \u001b[0mrequest\u001b[0m\u001b[0;34m(\u001b[0m\u001b[0;34m\"get\"\u001b[0m\u001b[0;34m,\u001b[0m \u001b[0murl\u001b[0m\u001b[0;34m,\u001b[0m \u001b[0mparams\u001b[0m\u001b[0;34m=\u001b[0m\u001b[0mparams\u001b[0m\u001b[0;34m,\u001b[0m \u001b[0;34m**\u001b[0m\u001b[0mkwargs\u001b[0m\u001b[0;34m)\u001b[0m\u001b[0;34m\u001b[0m\u001b[0;34m\u001b[0m\u001b[0m\n\u001b[0m\u001b[1;32m     74\u001b[0m \u001b[0;34m\u001b[0m\u001b[0m\n\u001b[1;32m     75\u001b[0m \u001b[0;34m\u001b[0m\u001b[0m\n",
            "\u001b[0;32m/usr/local/lib/python3.10/dist-packages/requests/api.py\u001b[0m in \u001b[0;36mrequest\u001b[0;34m(method, url, **kwargs)\u001b[0m\n\u001b[1;32m     57\u001b[0m     \u001b[0;31m# cases, and look like a memory leak in others.\u001b[0m\u001b[0;34m\u001b[0m\u001b[0;34m\u001b[0m\u001b[0m\n\u001b[1;32m     58\u001b[0m     \u001b[0;32mwith\u001b[0m \u001b[0msessions\u001b[0m\u001b[0;34m.\u001b[0m\u001b[0mSession\u001b[0m\u001b[0;34m(\u001b[0m\u001b[0;34m)\u001b[0m \u001b[0;32mas\u001b[0m \u001b[0msession\u001b[0m\u001b[0;34m:\u001b[0m\u001b[0;34m\u001b[0m\u001b[0;34m\u001b[0m\u001b[0m\n\u001b[0;32m---> 59\u001b[0;31m         \u001b[0;32mreturn\u001b[0m \u001b[0msession\u001b[0m\u001b[0;34m.\u001b[0m\u001b[0mrequest\u001b[0m\u001b[0;34m(\u001b[0m\u001b[0mmethod\u001b[0m\u001b[0;34m=\u001b[0m\u001b[0mmethod\u001b[0m\u001b[0;34m,\u001b[0m \u001b[0murl\u001b[0m\u001b[0;34m=\u001b[0m\u001b[0murl\u001b[0m\u001b[0;34m,\u001b[0m \u001b[0;34m**\u001b[0m\u001b[0mkwargs\u001b[0m\u001b[0;34m)\u001b[0m\u001b[0;34m\u001b[0m\u001b[0;34m\u001b[0m\u001b[0m\n\u001b[0m\u001b[1;32m     60\u001b[0m \u001b[0;34m\u001b[0m\u001b[0m\n\u001b[1;32m     61\u001b[0m \u001b[0;34m\u001b[0m\u001b[0m\n",
            "\u001b[0;32m/usr/local/lib/python3.10/dist-packages/requests/sessions.py\u001b[0m in \u001b[0;36mrequest\u001b[0;34m(self, method, url, params, data, headers, cookies, files, auth, timeout, allow_redirects, proxies, hooks, stream, verify, cert, json)\u001b[0m\n\u001b[1;32m    573\u001b[0m             \u001b[0mhooks\u001b[0m\u001b[0;34m=\u001b[0m\u001b[0mhooks\u001b[0m\u001b[0;34m,\u001b[0m\u001b[0;34m\u001b[0m\u001b[0;34m\u001b[0m\u001b[0m\n\u001b[1;32m    574\u001b[0m         )\n\u001b[0;32m--> 575\u001b[0;31m         \u001b[0mprep\u001b[0m \u001b[0;34m=\u001b[0m \u001b[0mself\u001b[0m\u001b[0;34m.\u001b[0m\u001b[0mprepare_request\u001b[0m\u001b[0;34m(\u001b[0m\u001b[0mreq\u001b[0m\u001b[0;34m)\u001b[0m\u001b[0;34m\u001b[0m\u001b[0;34m\u001b[0m\u001b[0m\n\u001b[0m\u001b[1;32m    576\u001b[0m \u001b[0;34m\u001b[0m\u001b[0m\n\u001b[1;32m    577\u001b[0m         \u001b[0mproxies\u001b[0m \u001b[0;34m=\u001b[0m \u001b[0mproxies\u001b[0m \u001b[0;32mor\u001b[0m \u001b[0;34m{\u001b[0m\u001b[0;34m}\u001b[0m\u001b[0;34m\u001b[0m\u001b[0;34m\u001b[0m\u001b[0m\n",
            "\u001b[0;32m/usr/local/lib/python3.10/dist-packages/requests/sessions.py\u001b[0m in \u001b[0;36mprepare_request\u001b[0;34m(self, request)\u001b[0m\n\u001b[1;32m    482\u001b[0m \u001b[0;34m\u001b[0m\u001b[0m\n\u001b[1;32m    483\u001b[0m         \u001b[0mp\u001b[0m \u001b[0;34m=\u001b[0m \u001b[0mPreparedRequest\u001b[0m\u001b[0;34m(\u001b[0m\u001b[0;34m)\u001b[0m\u001b[0;34m\u001b[0m\u001b[0;34m\u001b[0m\u001b[0m\n\u001b[0;32m--> 484\u001b[0;31m         p.prepare(\n\u001b[0m\u001b[1;32m    485\u001b[0m             \u001b[0mmethod\u001b[0m\u001b[0;34m=\u001b[0m\u001b[0mrequest\u001b[0m\u001b[0;34m.\u001b[0m\u001b[0mmethod\u001b[0m\u001b[0;34m.\u001b[0m\u001b[0mupper\u001b[0m\u001b[0;34m(\u001b[0m\u001b[0;34m)\u001b[0m\u001b[0;34m,\u001b[0m\u001b[0;34m\u001b[0m\u001b[0;34m\u001b[0m\u001b[0m\n\u001b[1;32m    486\u001b[0m             \u001b[0murl\u001b[0m\u001b[0;34m=\u001b[0m\u001b[0mrequest\u001b[0m\u001b[0;34m.\u001b[0m\u001b[0murl\u001b[0m\u001b[0;34m,\u001b[0m\u001b[0;34m\u001b[0m\u001b[0;34m\u001b[0m\u001b[0m\n",
            "\u001b[0;32m/usr/local/lib/python3.10/dist-packages/requests/models.py\u001b[0m in \u001b[0;36mprepare\u001b[0;34m(self, method, url, headers, files, data, params, auth, cookies, hooks, json)\u001b[0m\n\u001b[1;32m    365\u001b[0m \u001b[0;34m\u001b[0m\u001b[0m\n\u001b[1;32m    366\u001b[0m         \u001b[0mself\u001b[0m\u001b[0;34m.\u001b[0m\u001b[0mprepare_method\u001b[0m\u001b[0;34m(\u001b[0m\u001b[0mmethod\u001b[0m\u001b[0;34m)\u001b[0m\u001b[0;34m\u001b[0m\u001b[0;34m\u001b[0m\u001b[0m\n\u001b[0;32m--> 367\u001b[0;31m         \u001b[0mself\u001b[0m\u001b[0;34m.\u001b[0m\u001b[0mprepare_url\u001b[0m\u001b[0;34m(\u001b[0m\u001b[0murl\u001b[0m\u001b[0;34m,\u001b[0m \u001b[0mparams\u001b[0m\u001b[0;34m)\u001b[0m\u001b[0;34m\u001b[0m\u001b[0;34m\u001b[0m\u001b[0m\n\u001b[0m\u001b[1;32m    368\u001b[0m         \u001b[0mself\u001b[0m\u001b[0;34m.\u001b[0m\u001b[0mprepare_headers\u001b[0m\u001b[0;34m(\u001b[0m\u001b[0mheaders\u001b[0m\u001b[0;34m)\u001b[0m\u001b[0;34m\u001b[0m\u001b[0;34m\u001b[0m\u001b[0m\n\u001b[1;32m    369\u001b[0m         \u001b[0mself\u001b[0m\u001b[0;34m.\u001b[0m\u001b[0mprepare_cookies\u001b[0m\u001b[0;34m(\u001b[0m\u001b[0mcookies\u001b[0m\u001b[0;34m)\u001b[0m\u001b[0;34m\u001b[0m\u001b[0;34m\u001b[0m\u001b[0m\n",
            "\u001b[0;32m/usr/local/lib/python3.10/dist-packages/requests/models.py\u001b[0m in \u001b[0;36mprepare_url\u001b[0;34m(self, url, params)\u001b[0m\n\u001b[1;32m    436\u001b[0m \u001b[0;34m\u001b[0m\u001b[0m\n\u001b[1;32m    437\u001b[0m         \u001b[0;32mif\u001b[0m \u001b[0;32mnot\u001b[0m \u001b[0mscheme\u001b[0m\u001b[0;34m:\u001b[0m\u001b[0;34m\u001b[0m\u001b[0;34m\u001b[0m\u001b[0m\n\u001b[0;32m--> 438\u001b[0;31m             raise MissingSchema(\n\u001b[0m\u001b[1;32m    439\u001b[0m                 \u001b[0;34mf\"Invalid URL {url!r}: No scheme supplied. \"\u001b[0m\u001b[0;34m\u001b[0m\u001b[0;34m\u001b[0m\u001b[0m\n\u001b[1;32m    440\u001b[0m                 \u001b[0;34mf\"Perhaps you meant https://{url}?\"\u001b[0m\u001b[0;34m\u001b[0m\u001b[0;34m\u001b[0m\u001b[0m\n",
            "\u001b[0;31mMissingSchema\u001b[0m: Invalid URL '/ceasa/node/396': No scheme supplied. Perhaps you meant https:///ceasa/node/396?"
          ]
        }
      ]
    },
    {
      "cell_type": "markdown",
      "source": [
        "**Ajustar as urls problemáticas**"
      ],
      "metadata": {
        "id": "K3BKWs-fNC4P"
      }
    },
    {
      "cell_type": "code",
      "source": [
        "def get_all_pdf_links(month_links):\n",
        "    \"\"\"\n",
        "    Itera sobre todos os links dos meses e coleta os PDFs diários.\n",
        "    Retorna um dicionário com o nome do mês e os links dos PDFs.\n",
        "    \"\"\"\n",
        "    all_pdfs = {}\n",
        "    base_url = \"https://www.rj.gov.br\"  # URL base para corrigir links relativos\n",
        "    for month in month_links:\n",
        "        # Corrigir URL relativa para URL completa\n",
        "        month_url = month['url']\n",
        "        if month_url.startswith('/'):  # Se a URL for relativa\n",
        "            month_url = base_url + month_url\n",
        "\n",
        "        print(f\"Processando: {month['text']} ({month_url})\")\n",
        "        pdf_links = get_daily_pdf_links(month_url)\n",
        "        all_pdfs[month['text']] = pdf_links\n",
        "        print(f\"PDFs encontrados para {month['text']}: {len(pdf_links)}\")\n",
        "    return all_pdfs\n"
      ],
      "metadata": {
        "id": "RARVTeqkNGzX"
      },
      "execution_count": 20,
      "outputs": []
    },
    {
      "cell_type": "code",
      "source": [
        "# Coletar os links de PDFs para todos os meses\n",
        "all_pdfs = get_all_pdf_links(month_links)\n",
        "\n",
        "# Exibir resultado resumido\n",
        "for month, pdfs in all_pdfs.items():\n",
        "    print(f\"{month}: {len(pdfs)} PDFs encontrados\")"
      ],
      "metadata": {
        "colab": {
          "base_uri": "https://localhost:8080/"
        },
        "id": "cIW50QF1NRbZ",
        "outputId": "bd899784-8e10-476c-9c3f-e754682ff09d"
      },
      "execution_count": 21,
      "outputs": [
        {
          "output_type": "stream",
          "name": "stdout",
          "text": [
            "Processando: Novembro (https://www.rj.gov.br/ceasa/node/491)\n",
            "PDFs encontrados para Novembro: 16\n",
            "Processando: Outubro (https://www.rj.gov.br/ceasa/node/452)\n",
            "PDFs encontrados para Outubro: 22\n",
            "Processando: Setembro (https://www.rj.gov.br/ceasa/node/446)\n",
            "PDFs encontrados para Setembro: 21\n",
            "Processando: Agosto (https://www.rj.gov.br/ceasa/node/436)\n",
            "PDFs encontrados para Agosto: 22\n",
            "Processando: Julho (https://www.rj.gov.br/ceasa/node/425)\n",
            "PDFs encontrados para Julho: 22\n",
            "Processando: Junho (https://www.rj.gov.br/ceasa/node/403)\n",
            "PDFs encontrados para Junho: 20\n",
            "Processando: Maio (https://www.rj.gov.br/ceasa/node/396)\n",
            "PDFs encontrados para Maio: 20\n",
            "Processando: Abril (https://www.rj.gov.br/ceasa/node/395)\n",
            "PDFs encontrados para Abril: 20\n",
            "Processando: Março (https://www.rj.gov.br/ceasa/node/392)\n",
            "PDFs encontrados para Março: 17\n",
            "Processando: Fevereiro (https://www.rj.gov.br/ceasa/node/391)\n",
            "PDFs encontrados para Fevereiro: 17\n",
            "Processando: Janeiro (https://www.rj.gov.br/ceasa/node/387)\n",
            "PDFs encontrados para Janeiro: 22\n",
            "Novembro: 16 PDFs encontrados\n",
            "Outubro: 22 PDFs encontrados\n",
            "Setembro: 21 PDFs encontrados\n",
            "Agosto: 22 PDFs encontrados\n",
            "Julho: 22 PDFs encontrados\n",
            "Junho: 20 PDFs encontrados\n",
            "Maio: 20 PDFs encontrados\n",
            "Abril: 20 PDFs encontrados\n",
            "Março: 17 PDFs encontrados\n",
            "Fevereiro: 17 PDFs encontrados\n",
            "Janeiro: 22 PDFs encontrados\n"
          ]
        }
      ]
    }
  ]
}